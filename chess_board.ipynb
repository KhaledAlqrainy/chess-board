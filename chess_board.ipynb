{
 "cells": [
  {
   "cell_type": "code",
   "execution_count": 1,
   "metadata": {},
   "outputs": [],
   "source": [
    "import numpy as np\n",
    "import matplotlib.pyplot as plt"
   ]
  },
  {
   "cell_type": "code",
   "execution_count": 2,
   "metadata": {},
   "outputs": [
    {
     "data": {
      "image/png": "[encoded data removed]",
      "text/plain": [
       "<Figure size 432x288 with 1 Axes>"
      ]
     },
     "metadata": {
      "needs_background": "light"
     },
     "output_type": "display_data"
    }
   ],
   "source": [
    "class ChessBoard:\n",
    "\n",
    "    black = [0,0,0]\n",
    "    white = [1,1,1]\n",
    "    red = [1,.2,0]\n",
    "    blue = [0,1,1]\n",
    "\n",
    "    def __init__(self):\n",
    "\n",
    "        self.grid=np.zeros([8,8,3])\n",
    "\n",
    "        for i in range(8):\n",
    "            for j in range(8):\n",
    "                if (i%2==0 or j%2==0) and (i%2==1 or j%2==1):\n",
    "                    self.grid[i,j] = ChessBoard.white\n",
    "\n",
    "    def render(self):\n",
    "        plt.imshow(self.grid)\n",
    "    \n",
    "    def add_red(self, red_row, red_column):\n",
    "        self.grid[red_row, red_column] = ChessBoard.red\n",
    "    \n",
    "    def add_blue(self, blue_row, blue_column):\n",
    "        self.grid[blue_row, blue_column] = ChessBoard.blue\n",
    "    \n",
    "    def is_under_attack(self, red_row, red_column, blue_row, blue_column):\n",
    "        \n",
    "        if red_row == blue_row:\n",
    "            return True\n",
    "        elif red_column == blue_column:\n",
    "            return True\n",
    "        elif abs(red_row- red_column) == abs(blue_row- blue_column):\n",
    "            return True\n",
    "        else:\n",
    "            return False\n",
    "                    \n",
    "chess_board = ChessBoard()\n",
    "chess_board.add_blue(0,0)\n",
    "chess_board.add_red(1,0)\n",
    "chess_board.render()"
   ]
  },
  {
   "cell_type": "code",
   "execution_count": 3,
   "metadata": {},
   "outputs": [
    {
     "name": "stdout",
     "output_type": "stream",
     "text": [
      "Test is Success\n"
     ]
    }
   ],
   "source": [
    "#queens on same row should be “under attack”\n",
    "assert chess_board.is_under_attack(0,0,1,1)==True\n",
    "\n",
    "#queens on same column should be “under attack”\n",
    "assert chess_board.is_under_attack(0,0,0,1)==True\n",
    "\n",
    "#queens on same diagonal should be “under attack”\n",
    "assert chess_board.is_under_attack(0,0,7,7)==True\n",
    "\n",
    "#queens with any other coordinates should NOT be “under attack”\n",
    "assert chess_board.is_under_attack(7,0,0,6)==False\n",
    "\n",
    "print('Test is Success')"
   ]
  }
 ],
 "metadata": {
  "interpreter": {
   "hash": "08e23d2434f8f4820e4110b593d1b54558007df3d214666504e35ea4e5930442"
  },
  "kernelspec": {
   "display_name": "Python 3.9.5 64-bit ('.venv': poetry)",
   "name": "python3"
  },
  "language_info": {
   "codemirror_mode": {
    "name": "ipython",
    "version": 3
   },
   "file_extension": ".py",
   "mimetype": "text/x-python",
   "name": "python",
   "nbconvert_exporter": "python",
   "pygments_lexer": "ipython3",
   "version": "3.9.5"
  },
  "orig_nbformat": 4
 },
 "nbformat": 4,
 "nbformat_minor": 2
}
